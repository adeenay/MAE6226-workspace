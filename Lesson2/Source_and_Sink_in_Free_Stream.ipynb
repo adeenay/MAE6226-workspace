{
 "cells": [
  {
   "cell_type": "code",
   "execution_count": 3,
   "metadata": {
    "collapsed": false
   },
   "outputs": [],
   "source": [
    "import math as mt\n",
    "import numpy as np\n",
    "import matplotlib as py\n",
    "%matplotlib inline"
   ]
  },
  {
   "cell_type": "code",
   "execution_count": 4,
   "metadata": {
    "collapsed": true
   },
   "outputs": [],
   "source": [
    "# function for creating flow grid\n",
    "def flowgrid (xstart, xend, ystart, yend, N):\n",
    "    x = np.linspace(xstart,xend,N)\n",
    "    y = np.linspace(ystart,yend,N)\n",
    "    X,Y = np.meshgrid(x,y)\n",
    "    return X,Y"
   ]
  },
  {
   "cell_type": "code",
   "execution_count": 11,
   "metadata": {
    "collapsed": false
   },
   "outputs": [],
   "source": [
    "# Defining grid of flow\n",
    "N = 200\n",
    "xstart, xend, ystart, yend = -4.0,4.0,-2.0,2.0\n",
    "X,Y = flowgrid(xstart,xend,ystart,yend,N)"
   ]
  },
  {
   "cell_type": "code",
   "execution_count": 14,
   "metadata": {
    "collapsed": false
   },
   "outputs": [],
   "source": [
    "# Free Stream\n",
    "u_inf = 1.0\n",
    "psi_free = u_inf * Y\n",
    "u_free = u_inf * np.ones((N,N),dtype=float)\n",
    "v_free = np.zeros((N,N),dtype=float)"
   ]
  },
  {
   "cell_type": "code",
   "execution_count": 15,
   "metadata": {
    "collapsed": true
   },
   "outputs": [],
   "source": [
    "#functions for velocity and stream function with source or sink\n",
    "def get_vel(strength, xs, ys, X, Y):\n",
    "    u = strength/(2*np.pi)*(X-xs)/((X-xs)**2+(Y-ys)**2)\n",
    "    v = strength/(2*np.pi)*(Y-ys)/((X-xs)**2+(Y-ys)**2)\n",
    "    return u,v\n",
    "\n",
    "def get_streamfun(strength, xs, ys, X, Y):\n",
    "    psi = strength/(2*np.pi)*np.arctan((Y-ys)/(X-xs))\n",
    "    return psi"
   ]
  },
  {
   "cell_type": "code",
   "execution_count": 17,
   "metadata": {
    "collapsed": false
   },
   "outputs": [],
   "source": [
    "# source at (-1,0) of strength 5\n",
    "xsource, ysource = -1.0,0.0\n",
    "strength_source = 5.0\n",
    "usource, vsource = get_vel (strength_source, xsource, ysource, X, Y)\n",
    "psi_source = get_streamfun (strength_source, xsource, ysource, X, Y)"
   ]
  },
  {
   "cell_type": "code",
   "execution_count": 19,
   "metadata": {
    "collapsed": false
   },
   "outputs": [],
   "source": [
    "#Sink at (1,0) at strength -5\n",
    "xsink, ysink = 1.0, 0.0\n",
    "strength_sink = -5.0\n",
    "usink, vsink = get_vel (strength_sink, xsink, ysink, X, Y)\n",
    "psi_sink = get_streamfun (strength_sink, xsink, ysink, X, Y)"
   ]
  },
  {
   "cell_type": "code",
   "execution_count": null,
   "metadata": {
    "collapsed": true
   },
   "outputs": [],
   "source": [
    "#source in free stream\n",
    "U1 = u_free + usource\n",
    "V1 = v_free + vsource\n"
   ]
  }
 ],
 "metadata": {
  "anaconda-cloud": {},
  "kernelspec": {
   "display_name": "Python [conda root]",
   "language": "python",
   "name": "conda-root-py"
  },
  "language_info": {
   "codemirror_mode": {
    "name": "ipython",
    "version": 3
   },
   "file_extension": ".py",
   "mimetype": "text/x-python",
   "name": "python",
   "nbconvert_exporter": "python",
   "pygments_lexer": "ipython3",
   "version": "3.5.2"
  }
 },
 "nbformat": 4,
 "nbformat_minor": 1
}
