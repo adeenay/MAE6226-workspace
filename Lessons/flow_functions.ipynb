{
 "cells": [
  {
   "cell_type": "code",
   "execution_count": 1,
   "metadata": {
    "collapsed": true
   },
   "outputs": [],
   "source": [
    "# function for creating flow grid\n",
    "def flowgrid (xstart, xend, ystart, yend, N):\n",
    "    x = np.linspace(xstart,xend,N)\n",
    "    y = np.linspace(ystart,yend,N)\n",
    "    X,Y = np.meshgrid(x,y)\n",
    "    return x,y,X,Y"
   ]
  },
  {
   "cell_type": "code",
   "execution_count": 2,
   "metadata": {
    "collapsed": true
   },
   "outputs": [],
   "source": [
    "# function for velocity and stream functions of source or sink\n",
    "def get_vel_psi_source(strength, xs, ys, X, Y):\n",
    "    u = strength/(2*np.pi)*(X-xs)/((X-xs)**2+(Y-ys)**2)\n",
    "    v = strength/(2*np.pi)*(Y-ys)/((X-xs)**2+(Y-ys)**2)\n",
    "    psi = strength/(2*np.pi)*np.arctan2((Y-ys),(X-xs))\n",
    "    return u,v,psi"
   ]
  },
  {
   "cell_type": "code",
   "execution_count": 3,
   "metadata": {
    "collapsed": true
   },
   "outputs": [],
   "source": [
    "def get_vel_psi_doublet (k,xd,yd,X,Y):\n",
    "    x = X-xd\n",
    "    y = Y-yd\n",
    "    u = -k/(2*np.pi)*(x**2-y**2)/((x**2 + y**2)**2)\n",
    "    v = -k/(2*np.pi)*(2*x*y)/((x**2 + y**2)**2)\n",
    "    psi = -k/(2*np.pi)*y/((x**2 + y**2)**2)\n",
    "    return u,v,psi"
   ]
  },
  {
   "cell_type": "code",
   "execution_count": 4,
   "metadata": {
    "collapsed": true
   },
   "outputs": [],
   "source": [
    "#function for vortex velocities and stream functions\n",
    "def get_vel_psi_vortex(strength, xv, yv, X, Y):\n",
    "    u = strength/(2*np.pi)*(Y-yv)/((X-xv)**2+(Y-yv)**2)\n",
    "    v = -strength/(2*np.pi)*(X-xv)/((X-xv)**2+(Y-yv)**2)\n",
    "    psi = strength/(4*np.pi)*np.log((X-xv)**2+(Y-yv)**2)\n",
    "    return u,v,psi"
   ]
  }
 ],
 "metadata": {
  "anaconda-cloud": {},
  "kernelspec": {
   "display_name": "Python [conda root]",
   "language": "python",
   "name": "conda-root-py"
  },
  "language_info": {
   "codemirror_mode": {
    "name": "ipython",
    "version": 3
   },
   "file_extension": ".py",
   "mimetype": "text/x-python",
   "name": "python",
   "nbconvert_exporter": "python",
   "pygments_lexer": "ipython3",
   "version": "3.5.2"
  }
 },
 "nbformat": 4,
 "nbformat_minor": 1
}
