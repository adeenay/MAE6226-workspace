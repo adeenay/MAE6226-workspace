{
 "cells": [
  {
   "cell_type": "markdown",
   "metadata": {},
   "source": [
    "# Assignment 3"
   ]
  },
  {
   "cell_type": "markdown",
   "metadata": {},
   "source": [
    "## Part 2: Wenzinger's test case"
   ]
  },
  {
   "cell_type": "code",
   "execution_count": 1,
   "metadata": {
    "collapsed": false
   },
   "outputs": [],
   "source": [
    "import os\n",
    "import csv\n",
    "import math\n",
    "import numpy\n",
    "from matplotlib import pyplot\n",
    "from scipy import integrate\n",
    "%matplotlib inline"
   ]
  },
  {
   "cell_type": "markdown",
   "metadata": {},
   "source": [
    "### Loading the airfoil data"
   ]
  },
  {
   "cell_type": "code",
   "execution_count": 2,
   "metadata": {
    "collapsed": false
   },
   "outputs": [
    {
     "data": {
      "image/png": "[encoded data removed]",
      "text/plain": [
       "<matplotlib.figure.Figure at 0x7efc7a26ac88>"
      ]
     },
     "metadata": {},
     "output_type": "display_data"
    }
   ],
   "source": [
    "#importing the data of the airfoil and flap\n",
    "filepath_main = os.path.join('.','NACA23012_MainFoil.csv')\n",
    "filepath_flap = os.path.join('.','NACA23012_FlapFoil.csv')\n",
    "with open(filepath_main) as file_name:\n",
    "    reader = csv.reader(file_name, quoting=csv.QUOTE_NONNUMERIC, skipinitialspace = True)\n",
    "    x_main, y_main = zip(*reader)\n",
    "    x_main = numpy.asarray(x_main)\n",
    "    y_main = numpy.asarray(y_main)\n",
    "\n",
    "with open(filepath_flap) as file_name:\n",
    "    reader = csv.reader(file_name, quoting=csv.QUOTE_NONNUMERIC, skipinitialspace = True)\n",
    "    x_flap, y_flap = zip(*reader)\n",
    "    x_flap = numpy.asarray(x_flap)\n",
    "    y_flap = numpy.asarray(y_flap)\n",
    "    \n",
    "size = 10\n",
    "pyplot.figure(figsize=(size,size))    \n",
    "pyplot.plot(x_main,y_main,'-b')\n",
    "pyplot.plot(x_flap,y_flap,'-g')\n",
    "pyplot.axis('scaled',adjustable='box')\n",
    "pyplot.xlim(-0.1,1.4)\n",
    "pyplot.ylim(-0.25,0.25);"
   ]
  },
  {
   "cell_type": "markdown",
   "metadata": {},
   "source": [
    "### Defining function to rotate flap"
   ]
  },
  {
   "cell_type": "code",
   "execution_count": 3,
   "metadata": {
    "collapsed": true
   },
   "outputs": [],
   "source": [
    "def rotate(x,y,xc,yc,theta): \n",
    "    \n",
    "    theta = theta * math.pi/180\n",
    "    x, y = x - xc, y - yc                             # translating hinge point to origin\n",
    "    x = x * math.cos(theta) + y * math.sin(theta)     # rotation \n",
    "    y = -x * math.sin(theta) + y * math.cos(theta)\n",
    "    x, y = x + xc, y + yc                             # translating hinge point back to original position\n",
    "    \n",
    "    return x,y"
   ]
  },
  {
   "cell_type": "markdown",
   "metadata": {},
   "source": [
    "### Creating class for Panel and defining function to create panels"
   ]
  },
  {
   "cell_type": "code",
   "execution_count": 4,
   "metadata": {
    "collapsed": true
   },
   "outputs": [],
   "source": [
    "class Panel:\n",
    "    \"\"\"\n",
    "    Contains information pertaining to a panel.\n",
    "    \"\"\"\n",
    "    def __init__(self, xa, ya, xb, yb):\n",
    "        \"\"\"\n",
    "        Initializes the panel.\n",
    "        \n",
    "        Sets the end-points and calculates the center, length,\n",
    "        and angle (with the x-axis) of the panel.\n",
    "        Defines if the panel is on the lower or upper surface of the geometry.\n",
    "        Initializes the source-sheet strength, tangential velocity,\n",
    "        and pressure coefficient to zero.\n",
    "        \n",
    "        Parameters\n",
    "        ----------\n",
    "        xa: float\n",
    "            x-coordinate of the first end-point.\n",
    "        ya: float\n",
    "            y-coordinate of the first end-point.\n",
    "        xb: float\n",
    "            x-coordinate of the second end-point.\n",
    "        yb: float\n",
    "            y-coordinate of the second end-point.\n",
    "        \"\"\"\n",
    "        self.xa, self.ya = xa, ya\n",
    "        self.xb, self.yb = xb, yb\n",
    "        \n",
    "        self.xc, self.yc = (xa+xb)/2, (ya+yb)/2       # control-point (center-point)\n",
    "        self.length = math.sqrt((xb-xa)**2+(yb-ya)**2)     # length of the panel\n",
    "        \n",
    "        # orientation of the panel (angle between x-axis and panel's normal)\n",
    "        if xb-xa <= 0.:\n",
    "            self.beta = math.acos((yb-ya)/self.length)\n",
    "        else:\n",
    "            self.beta = math.pi + math.acos(-(yb-ya)/self.length)\n",
    "        \n",
    "        # location of the panel\n",
    "        if self.beta <= math.pi:\n",
    "            self.loc = 'upper'\n",
    "        else:\n",
    "            self.loc = 'lower'\n",
    "        \n",
    "        self.sigma = 0.                             # source strength\n",
    "        self.vt = 0.                                # tangential velocity\n",
    "        self.cp = 0.                                # pressure coefficient"
   ]
  },
  {
   "cell_type": "code",
   "execution_count": 5,
   "metadata": {
    "collapsed": true
   },
   "outputs": [],
   "source": [
    "def define_panels(x,y):\n",
    "    \"\"\"\n",
    "    Discretizes the geometry into panels using the 'cosine' method.\n",
    "    \n",
    "    Parameters\n",
    "    ----------\n",
    "    x: 1D array of floats\n",
    "        x-coordinate of the points defining the geometry.\n",
    "    y: 1D array of floats\n",
    "        y-coordinate of the points defining the geometry.\n",
    "    \n",
    "    Returns\n",
    "    -------\n",
    "    panels: 1D Numpy array of Panel objects\n",
    "        The discretization of the geometry into panels.\n",
    "    \"\"\"\n",
    "    N = len(x)-1\n",
    "    panels = numpy.empty(N,dtype = object)\n",
    "    for i in range(N):\n",
    "        panels[i] = Panel(x[i],y[i],x[i+1],y[i+1])\n",
    "    return panels"
   ]
  },
  {
   "cell_type": "markdown",
   "metadata": {},
   "source": [
    "### Freestream conditions"
   ]
  },
  {
   "cell_type": "code",
   "execution_count": 6,
   "metadata": {
    "collapsed": true
   },
   "outputs": [],
   "source": [
    "class Freestream:\n",
    "    \"\"\"\n",
    "    Freestream conditions.\n",
    "    \"\"\"\n",
    "    def __init__(self, u_inf=1.0, alpha=0.0):\n",
    "        \"\"\"\n",
    "        Sets the freestream speed and angle (with the x-axis).\n",
    "        \n",
    "        Parameters\n",
    "        ----------\n",
    "        u_inf: float, optional\n",
    "            Freestream speed;\n",
    "            default: 1.0.\n",
    "        alpha: float, optional\n",
    "            Angle of attack in degrees;\n",
    "            default: 0.0.\n",
    "        \"\"\"\n",
    "        self.u_inf = u_inf\n",
    "        self.alpha = alpha*math.pi/180          # degrees to radians"
   ]
  },
  {
   "cell_type": "markdown",
   "metadata": {},
   "source": [
    "### Building linear system of equations"
   ]
  },
  {
   "cell_type": "code",
   "execution_count": 7,
   "metadata": {
    "collapsed": true
   },
   "outputs": [],
   "source": [
    "def integral(x, y, panel, dxdk, dydk):\n",
    "    \"\"\"\n",
    "    Evaluates the contribution from a panel at a given point.\n",
    "    \n",
    "    Parameters\n",
    "    ----------\n",
    "    x: float\n",
    "        x-coordinate of the target point.\n",
    "    y: float\n",
    "        y-coordinate of the target point.\n",
    "    panel: Panel object\n",
    "        Panel whose contribution is evaluated.\n",
    "    dxdk: float\n",
    "        Value of the derivative of x in a certain direction.\n",
    "    dydk: float\n",
    "        Value of the derivative of y in a certain direction.\n",
    "    \n",
    "    Returns\n",
    "    -------\n",
    "    Contribution from the panel at a given point (x, y).\n",
    "    \"\"\"\n",
    "    def integrand(s):\n",
    "        return ( ((x - (panel.xa - numpy.sin(panel.beta)*s))*dxdk + (y - (panel.ya + numpy.cos(panel.beta)*s))*dydk)\n",
    "                / ((x - (panel.xa - numpy.sin(panel.beta)*s))**2 + (y - (panel.ya + numpy.cos(panel.beta)*s))**2))\n",
    "    \n",
    "    return integrate.quad(lambda s:integrand(s), 0.0, panel.length)[0]"
   ]
  },
  {
   "cell_type": "markdown",
   "metadata": {},
   "source": [
    "Defining the source contribution matrix"
   ]
  },
  {
   "cell_type": "code",
   "execution_count": 8,
   "metadata": {
    "collapsed": true
   },
   "outputs": [],
   "source": [
    "def source_matrix(panels):\n",
    "    \"\"\"\n",
    "    Builds the source contribution matrix for the normal velocity.\n",
    "    \n",
    "    Parameters\n",
    "    ----------\n",
    "    panels: 1D array of Panel objects\n",
    "        List of panels.\n",
    "    \n",
    "    Returns\n",
    "    -------\n",
    "    A: 2D Numpy array of floats\n",
    "        Source contribution matrix.\n",
    "    \"\"\"\n",
    "    A = numpy.empty((panels.size, panels.size), dtype=float)\n",
    "    # source contribution on a panel from itself\n",
    "    numpy.fill_diagonal(A, 0.5)\n",
    "    # source contribution on a panel from other panels\n",
    "    for i, p_i in enumerate(panels):\n",
    "        for j, p_j in enumerate(panels):\n",
    "            if i != j:\n",
    "                A[i, j] = 0.5/numpy.pi*integral(p_i.xc, p_i.yc, p_j, numpy.cos(p_i.beta), numpy.sin(p_i.beta))\n",
    "    return A"
   ]
  },
  {
   "cell_type": "markdown",
   "metadata": {},
   "source": [
    "Defining the vortex contribution matrix"
   ]
  },
  {
   "cell_type": "code",
   "execution_count": 9,
   "metadata": {
    "collapsed": true
   },
   "outputs": [],
   "source": [
    "def vortex_matrix(panels):\n",
    "    \"\"\"\n",
    "    Builds the vortex contribution matrix for the normal velocity.\n",
    "    \n",
    "    Parameters\n",
    "    ----------\n",
    "    panels: 1D array of Panel objects\n",
    "        List of panels.\n",
    "    \n",
    "    Returns\n",
    "    -------\n",
    "    A: 2D Numpy array of floats\n",
    "        Vortex contribution matrix.\n",
    "    \"\"\"\n",
    "    A = numpy.empty((panels.size, panels.size), dtype=float)\n",
    "    # vortex contribution on a panel from itself\n",
    "    numpy.fill_diagonal(A, 0.0)\n",
    "    # vortex contribution on a panel from other panels\n",
    "    for i, p_i in enumerate(panels):\n",
    "        for j, p_j in enumerate(panels):\n",
    "            if i != j:\n",
    "                A[i, j] = -0.5/numpy.pi*integral(p_i.xc, p_i.yc, p_j, numpy.sin(p_i.beta), -numpy.cos(p_i.beta))\n",
    "    return A"
   ]
  },
  {
   "cell_type": "markdown",
   "metadata": {},
   "source": [
    "Building the singularity matrix"
   ]
  },
  {
   "cell_type": "code",
   "execution_count": 10,
   "metadata": {
    "collapsed": true
   },
   "outputs": [],
   "source": [
    "def build_matrix(panels):\n",
    "    \n",
    "    N = len(panels)                                      # no. of panels\n",
    "    kutta = numpy.empty((2,N+2), dtype=float)            # initializing kutta condition matrix\n",
    "    At = numpy.empty((N,N+2), dtype=float)               # initializing tangential contribution matrix\n",
    "    main = numpy.empty((N), dtype=float)                 # initializing source contribution on main airfoil tangential\n",
    "    flap = numpy.empty((N), dtype=float)                 # initializing source contribution on main airfoil tangential\n",
    "    B = numpy.empty((N,2), dtype=float)                  # initializing vortex contribution matrix\n",
    "    A = numpy.empty((N+2,N+2), dtype=float)              # initializing singularity matrix\n",
    "    \n",
    "    An = source_matrix(panels)\n",
    "    Bn = vortex_matrix(panels)\n",
    "    \n",
    "    for i, panel_i in enumerate(panels):\n",
    "        B[i,0] = numpy.sum(Bn[i,:int(N/2)])\n",
    "        B[i,1] = numpy.sum(Bn[i,int(N/2):])\n",
    "    \n",
    "    for i, panel_i in enumerate(panels):\n",
    "        main[i] = numpy.sum(An[i,:int(N/2)])\n",
    "        flap[i] = numpy.sum(An[i,int(N/2):])\n",
    "    \n",
    "    At[:N,:N] = Bn\n",
    "    At[:,-2] = -main\n",
    "    At[:,-1] = -flap\n",
    "    kutta[0,:] = At[0,:] + At[int(N/2-1),:]\n",
    "    kutta[1,:] = At[int(N/2),:] + At[-1,:]\n",
    "    A[0:N,0:N], A[0:N,N:], A[N:,:] = An, B, kutta\n",
    "    \n",
    "    return A, At"
   ]
  },
  {
   "cell_type": "markdown",
   "metadata": {},
   "source": [
    "Building the freestream rhs matrix"
   ]
  },
  {
   "cell_type": "code",
   "execution_count": 11,
   "metadata": {
    "collapsed": false
   },
   "outputs": [],
   "source": [
    "def build_freestream_rhs(panels, freestream):\n",
    "    \"\"\"Builds the right hand-side of the system \n",
    "    arising from the freestream contribution.\n",
    "    \n",
    "    Parameters\n",
    "    ----------\n",
    "    panels: Numpy 1d array (Panel object)\n",
    "        List of panels.\n",
    "    freestream: Freestream object\n",
    "        Freestream conditions.\n",
    "    \n",
    "    Returns\n",
    "    -------\n",
    "    b: Numpy 1d array (float)\n",
    "        Freestream contribution on each panel and on the Kutta condition.\n",
    "    \"\"\"\n",
    "    N = len(panels)\n",
    "    b = numpy.empty(N+2,dtype=float)\n",
    "    # freestream contribution on each panel\n",
    "    for i, panel in enumerate(panels):\n",
    "        b[i] = -freestream.u_inf * numpy.cos(freestream.alpha - panel.beta)\n",
    "    \n",
    "    # freestream contribution on the Kutta condition on main airfoil\n",
    "    b[-2] = -freestream.u_inf * (math.sin(freestream.alpha - panels[0].beta) + math.sin(freestream.alpha - panels[int(N/2-1)].beta))\n",
    "    # freestream contribution on the Kutta condition on flap\n",
    "    b[-1] = -freestream.u_inf * (math.sin(freestream.alpha - panels[int(N/2)].beta) + math.sin(freestream.alpha - panels[-1].beta))\n",
    "    return b"
   ]
  },
  {
   "cell_type": "markdown",
   "metadata": {},
   "source": [
    "Defining functions to compute tangential velocity and pressure coefficient"
   ]
  },
  {
   "cell_type": "code",
   "execution_count": 12,
   "metadata": {
    "collapsed": false
   },
   "outputs": [],
   "source": [
    "def compute_tangential_velocity(panels, freestream, gamma, At):\n",
    "    N = len(panels)\n",
    "    strengths = numpy.append([panel.sigma for panel in panels],gamma)\n",
    "    b = freestream.u_inf * numpy.sin([freestream.alpha - panel.beta for panel in panels])\n",
    "    vt = numpy.dot(At,strengths) + b\n",
    "    \n",
    "    for i, panel in enumerate(panels):\n",
    "        panel.vt = vt[i]"
   ]
  },
  {
   "cell_type": "code",
   "execution_count": 13,
   "metadata": {
    "collapsed": true
   },
   "outputs": [],
   "source": [
    "def compute_pressure_coefficient(panels,freestream):\n",
    "    \n",
    "    for panel in panels:\n",
    "        panel.cp = 1.0 - (panel.vt/freestream.u_inf)**2"
   ]
  },
  {
   "cell_type": "markdown",
   "metadata": {},
   "source": [
    "# Assignment Questions"
   ]
  },
  {
   "cell_type": "markdown",
   "metadata": {},
   "source": [
    "### Question 1: Rotating flap to 20 degrees deflection with varying angle of attack"
   ]
  },
  {
   "cell_type": "code",
   "execution_count": 14,
   "metadata": {
    "collapsed": false
   },
   "outputs": [
    {
     "data": {
      "image/png": "[encoded data removed]",
      "text/plain": [
       "<matplotlib.figure.Figure at 0x7efc783a9a90>"
      ]
     },
     "metadata": {},
     "output_type": "display_data"
    }
   ],
   "source": [
    "theta = 20\n",
    "xc_flap,yc_flap = 1.03,-0.054\n",
    "x_flap_rotate,y_flap_rotate = rotate(x_flap,y_flap,xc_flap,yc_flap,theta)\n",
    "\n",
    "size = 10\n",
    "pyplot.figure(figsize=(size,size))    \n",
    "pyplot.plot(x_main,y_main,'-b')\n",
    "pyplot.plot(x_flap_rotate,y_flap_rotate,'-g')\n",
    "pyplot.axis('scaled',adjustable='box')\n",
    "pyplot.xlim(-0.1,1.4)\n",
    "pyplot.ylim(-0.25,0.25);"
   ]
  },
  {
   "cell_type": "code",
   "execution_count": 15,
   "metadata": {
    "collapsed": false
   },
   "outputs": [
    {
     "data": {
      "image/png": "[encoded data removed]",
      "text/plain": [
       "<matplotlib.figure.Figure at 0x7efc783a92e8>"
      ]
     },
     "metadata": {},
     "output_type": "display_data"
    }
   ],
   "source": [
    "panels_main, panels_flap = define_panels(x_main,y_main), define_panels(x_flap_rotate,y_flap_rotate)\n",
    "panels = numpy.concatenate((panels_main,panels_flap))\n",
    "\n",
    "size = 10\n",
    "pyplot.figure(figsize=(size,size))\n",
    "pyplot.grid()\n",
    "pyplot.plot([panel.xa for panel in panels],[panel.ya for panel in panels],'-bo')\n",
    "pyplot.plot([panel.xc for panel in panels],[panel.yc for panel in panels],'-ro')\n",
    "pyplot.axis('scaled',adjustable='box')\n",
    "pyplot.xlim(-0.1,1.4)\n",
    "pyplot.ylim(-0.25,0.25);"
   ]
  },
  {
   "cell_type": "code",
   "execution_count": 16,
   "metadata": {
    "collapsed": false
   },
   "outputs": [
    {
     "name": "stdout",
     "output_type": "stream",
     "text": [
      "0.0 1.40721319682\n",
      "-7.0 0.438033325248\n",
      "-10.5 -0.0442550397715\n",
      "-8.75 0.195943308218\n",
      "-9.625 0.0755514685797\n",
      "-10.0625 0.0155680491151\n",
      "-10.28125 -0.0143644095545\n",
      "-10.171875 0.00059670024425\n",
      "-10.2265625 -0.00688514817262\n",
      "-10.19921875 -0.00314454563974\n",
      "-10.185546875 -0.00127400290362\n",
      "-10.1787109375 -0.00033867135453\n",
      "-10.17529296875 0.000129009441976\n",
      "-10.177001953125 -0.000104832207414\n",
      "-10.1761474609375 1.20883045495e-05\n",
      "-10.1761474609375 1.20883045495e-05\n"
     ]
    }
   ],
   "source": [
    "u_inf = 1.0\n",
    "alpha1,alpha2 = -14.0,+14.0                          # range of bisection\n",
    "alpha = (alpha1 + alpha2)/2.0\n",
    "\n",
    "while(1):\n",
    "    freestream = Freestream(u_inf,alpha)\n",
    "\n",
    "    A, At = build_matrix(panels)\n",
    "    b = build_freestream_rhs(panels,freestream)\n",
    "    strengths = numpy.linalg.solve(A,b)\n",
    "    for i , panel in enumerate(panels):\n",
    "        panel.sigma = strengths[i]\n",
    "\n",
    "    gamma = strengths[-2:]\n",
    "    compute_tangential_velocity(panels,freestream,gamma,At)\n",
    "    compute_pressure_coefficient(panels,freestream)\n",
    "\n",
    "    lift,drag = 0.,0.\n",
    "    for panel in panels:\n",
    "        lift -= panel.cp*panel.length*numpy.sin(panel.beta)\n",
    "        drag += panel.cp*panel.length*numpy.cos(panel.beta)\n",
    "\n",
    "    print(alpha,lift)\n",
    "    if lift > 0:\n",
    "        alpha2 = float(alpha)\n",
    "    if lift < 0:\n",
    "        alpha1 = float(alpha)\n",
    "    \n",
    "    if abs(lift) < 1e-4:\n",
    "        break\n",
    "        \n",
    "    alpha = (alpha1 + alpha2)/2\n",
    "    \n",
    "print(alpha,lift)"
   ]
  },
  {
   "cell_type": "markdown",
   "metadata": {},
   "source": [
    "### Question 2: At zero angle of attack, varying flap angle"
   ]
  },
  {
   "cell_type": "code",
   "execution_count": 18,
   "metadata": {
    "collapsed": false
   },
   "outputs": [
    {
     "name": "stdout",
     "output_type": "stream",
     "text": [
      "Q2. The lift on the wing system is zero when theta = -4.51171875\n"
     ]
    }
   ],
   "source": [
    "theta1, theta2 = -14.0,14.0\n",
    "mid_theta = (theta1+theta2)/2\n",
    "freestream = Freestream()\n",
    "while(1):\n",
    "\n",
    "    xc_flap,yc_flap = 1.03,-0.054\n",
    "    x_flap_rotate_new,y_flap_rotate_new = rotate(x_flap,y_flap,xc_flap,yc_flap,mid_theta)\n",
    "\n",
    "    panels_main, panels_flap = define_panels(x_main,y_main), define_panels(x_flap_rotate_new,y_flap_rotate_new)\n",
    "    panels = numpy.concatenate((panels_main,panels_flap))\n",
    "\n",
    "    A, At = build_matrix(panels)\n",
    "    b = build_freestream_rhs(panels,freestream)\n",
    "    strengths = numpy.linalg.solve(A,b)\n",
    "    for i , panel in enumerate(panels):\n",
    "        panel.sigma = strengths[i]\n",
    "\n",
    "    gamma = strengths[-2:]\n",
    "    compute_tangential_velocity(panels,freestream,gamma,At)\n",
    "    compute_pressure_coefficient(panels,freestream)\n",
    "\n",
    "    lift,drag = 0.,0.\n",
    "    for panel in panels:\n",
    "        lift -= panel.cp*panel.length*numpy.sin(panel.beta)\n",
    "        drag += panel.cp*panel.length*numpy.cos(panel.beta)\n",
    "    #print(mid_theta, lift)\n",
    "    if lift > 0:\n",
    "        theta2 = float(mid_theta)\n",
    "    if lift < 0:\n",
    "        theta1 = float(mid_theta)\n",
    "    \n",
    "    if abs(lift)<1e-4:\n",
    "        break\n",
    "    mid_theta = (theta1+theta2)/2\n",
    "\n",
    "print(\"Q2. The lift on the wing system is zero when theta = {}\".format(mid_theta))    "
   ]
  },
  {
   "cell_type": "markdown",
   "metadata": {},
   "source": [
    "### Question 3: Varying flap angles - Comparison with zero degrees flap angle "
   ]
  },
  {
   "cell_type": "code",
   "execution_count": 29,
   "metadata": {
    "collapsed": false
   },
   "outputs": [],
   "source": [
    "u_inf, alpha = 1.0,4.0\n",
    "theta1,theta2,theta3,theta4 = 0.0,5.0,10.0,15.0\n",
    "freestream = Freestream(u_inf,alpha)"
   ]
  },
  {
   "cell_type": "code",
   "execution_count": 30,
   "metadata": {
    "collapsed": false
   },
   "outputs": [],
   "source": [
    "#theta = 0\n",
    "xc_flap,yc_flap = 1.03,-0.054\n",
    "x_flap_rotate_new,y_flap_rotate_new = rotate(x_flap,y_flap,xc_flap,yc_flap,theta1)\n",
    "\n",
    "panels_main, panels_flap = define_panels(x_main,y_main), define_panels(x_flap_rotate_new,y_flap_rotate_new)\n",
    "panels = numpy.concatenate((panels_main,panels_flap))\n",
    "\n",
    "A, At = build_matrix(panels)\n",
    "b = build_freestream_rhs(panels,freestream)\n",
    "strengths = numpy.linalg.solve(A,b)\n",
    "for i , panel in enumerate(panels):\n",
    "    panel.sigma = strengths[i]\n",
    "\n",
    "gamma1 = strengths[-2:]\n",
    "compute_tangential_velocity(panels,freestream,gamma1,At)\n",
    "compute_pressure_coefficient(panels,freestream)\n",
    "\n",
    "lift1,drag1 = 0.0,0.0\n",
    "for panel in panels:\n",
    "    lift1 -= panel.cp*panel.length*numpy.sin(panel.beta)\n",
    "    drag1 += panel.cp*panel.length*numpy.cos(panel.beta)"
   ]
  },
  {
   "cell_type": "code",
   "execution_count": 32,
   "metadata": {
    "collapsed": false
   },
   "outputs": [],
   "source": [
    "#theta = 5\n",
    "xc_flap,yc_flap = 1.03,-0.054\n",
    "x_flap_rotate_new,y_flap_rotate_new = rotate(x_flap,y_flap,xc_flap,yc_flap,theta2)\n",
    "\n",
    "panels_main, panels_flap = define_panels(x_main,y_main), define_panels(x_flap_rotate_new,y_flap_rotate_new)\n",
    "panels = numpy.concatenate((panels_main,panels_flap))\n",
    "\n",
    "A, At = build_matrix(panels)\n",
    "b = build_freestream_rhs(panels,freestream)\n",
    "strengths = numpy.linalg.solve(A,b)\n",
    "for i , panel in enumerate(panels):\n",
    "    panel.sigma = strengths[i]\n",
    "\n",
    "gamma2 = strengths[-2:]\n",
    "compute_tangential_velocity(panels,freestream,gamma2,At)\n",
    "compute_pressure_coefficient(panels,freestream)\n",
    "\n",
    "lift2,drag2 = 0.,0.\n",
    "for panel in panels:\n",
    "    lift2 -= panel.cp*panel.length*numpy.sin(panel.beta)\n",
    "    drag2 += panel.cp*panel.length*numpy.cos(panel.beta)"
   ]
  },
  {
   "cell_type": "code",
   "execution_count": 33,
   "metadata": {
    "collapsed": false
   },
   "outputs": [],
   "source": [
    "#theta = 10\n",
    "xc_flap,yc_flap = 1.03,-0.054\n",
    "x_flap_rotate_new,y_flap_rotate_new = rotate(x_flap,y_flap,xc_flap,yc_flap,theta3)\n",
    "\n",
    "panels_main, panels_flap = define_panels(x_main,y_main), define_panels(x_flap_rotate_new,y_flap_rotate_new)\n",
    "panels = numpy.concatenate((panels_main,panels_flap))\n",
    "\n",
    "A, At = build_matrix(panels)\n",
    "b = build_freestream_rhs(panels,freestream)\n",
    "strengths = numpy.linalg.solve(A,b)\n",
    "for i , panel in enumerate(panels):\n",
    "    panel.sigma = strengths[i]\n",
    "\n",
    "gamma3 = strengths[-2:]\n",
    "compute_tangential_velocity(panels,freestream,gamma3,At)\n",
    "compute_pressure_coefficient(panels,freestream)\n",
    "\n",
    "lift3,drag3 = 0.,0.\n",
    "for panel in panels:\n",
    "    lift3 -= panel.cp*panel.length*numpy.sin(panel.beta)\n",
    "    drag3 += panel.cp*panel.length*numpy.cos(panel.beta)"
   ]
  },
  {
   "cell_type": "code",
   "execution_count": 34,
   "metadata": {
    "collapsed": false,
    "scrolled": true
   },
   "outputs": [],
   "source": [
    "#theta = 15\n",
    "xc_flap,yc_flap = 1.03,-0.054\n",
    "x_flap_rotate_new,y_flap_rotate_new = rotate(x_flap,y_flap,xc_flap,yc_flap,theta4)\n",
    "\n",
    "panels_main, panels_flap = define_panels(x_main,y_main), define_panels(x_flap_rotate_new,y_flap_rotate_new)\n",
    "panels = numpy.concatenate((panels_main,panels_flap))\n",
    "\n",
    "A, At = build_matrix(panels)\n",
    "b = build_freestream_rhs(panels,freestream)\n",
    "strengths = numpy.linalg.solve(A,b)\n",
    "for i , panel in enumerate(panels):\n",
    "    panel.sigma = strengths[i]\n",
    "\n",
    "gamma4 = strengths[-2:]\n",
    "compute_tangential_velocity(panels,freestream,gamma4,At)\n",
    "compute_pressure_coefficient(panels,freestream)\n",
    "\n",
    "lift4,drag4 = 0.,0.\n",
    "for panel in panels:\n",
    "    lift4 -= panel.cp*panel.length*numpy.sin(panel.beta)\n",
    "    drag4 += panel.cp*panel.length*numpy.cos(panel.beta)"
   ]
  },
  {
   "cell_type": "markdown",
   "metadata": {},
   "source": [
    "The co-effient of lift is calculated for each flap angle. The co-efficient of lift is inversely proportional to the square of velocity, i.e. $C_L$ $\\alpha$  $\\frac{1}{V^2}$.\n",
    "\n",
    "The reduction in velocity as the coefficient of lift increases with increasing flap angle can be found using the proportionality relation."
   ]
  },
  {
   "cell_type": "code",
   "execution_count": 35,
   "metadata": {
    "collapsed": false
   },
   "outputs": [
    {
     "name": "stdout",
     "output_type": "stream",
     "text": [
      "For theta = 5,  the velocity can be reduced by 14.411837199462829 %\n",
      "For theta = 10, the velocity can be reduced by 23.76692611919382 %\n",
      "For theta = 15, the velocity can be reduced by 30.258640252869974 %\n"
     ]
    }
   ],
   "source": [
    "# comparison\n",
    "vel5  = (1-(lift1/lift2)**0.5)*100\n",
    "vel10 = (1-(lift1/lift3)**0.5)*100\n",
    "vel15 = (1-(lift1/lift4)**0.5)*100\n",
    "\n",
    "print(\"For theta = 5,  the velocity can be reduced by {} %\".format(vel5))\n",
    "print(\"For theta = 10, the velocity can be reduced by {} %\".format(vel10))\n",
    "print(\"For theta = 15, the velocity can be reduced by {} %\".format(vel15))"
   ]
  }
 ],
 "metadata": {
  "anaconda-cloud": {},
  "kernelspec": {
   "display_name": "Python [conda root]",
   "language": "python",
   "name": "conda-root-py"
  },
  "language_info": {
   "codemirror_mode": {
    "name": "ipython",
    "version": 3
   },
   "file_extension": ".py",
   "mimetype": "text/x-python",
   "name": "python",
   "nbconvert_exporter": "python",
   "pygments_lexer": "ipython3",
   "version": "3.5.2"
  }
 },
 "nbformat": 4,
 "nbformat_minor": 1
}
